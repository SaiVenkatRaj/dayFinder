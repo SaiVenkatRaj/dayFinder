{
 "cells": [
  {
   "cell_type": "code",
   "execution_count": null,
   "id": "4361684b",
   "metadata": {},
   "outputs": [],
   "source": []
  },
  {
   "cell_type": "code",
   "execution_count": 10,
   "id": "caa3f7fd",
   "metadata": {},
   "outputs": [
    {
     "name": "stdout",
     "output_type": "stream",
     "text": [
      "Enter any year: 2024\n",
      "Enter any month: 03\n",
      "Enter any date: 12\n",
      "You have entered the date: 2024-03-12\n",
      "\n",
      "2024-03-12 is Tuesday\n"
     ]
    }
   ],
   "source": [
    "import datetime\n",
    "\n",
    "#creating the objects for year, month and date and storing them in integer format\n",
    "year = int(input(\"Enter any year: \"))\n",
    "month = int(input(\"Enter any month: \"))\n",
    "date = int(input(\"Enter any date: \"))\n",
    "\n",
    "#converting the given integers into date format and storing them in 'x'\n",
    "x = datetime.date(year, month, date)\n",
    "\n",
    "print(\"You have entered the date:\", x)\n",
    "print()\n",
    "print(x, \"is\", x.strftime(\"%A\"))"
   ]
  },
  {
   "cell_type": "code",
   "execution_count": null,
   "id": "f013264b",
   "metadata": {},
   "outputs": [],
   "source": []
  }
 ],
 "metadata": {
  "kernelspec": {
   "display_name": "Python 3 (ipykernel)",
   "language": "python",
   "name": "python3"
  },
  "language_info": {
   "codemirror_mode": {
    "name": "ipython",
    "version": 3
   },
   "file_extension": ".py",
   "mimetype": "text/x-python",
   "name": "python",
   "nbconvert_exporter": "python",
   "pygments_lexer": "ipython3",
   "version": "3.9.7"
  }
 },
 "nbformat": 4,
 "nbformat_minor": 5
}
